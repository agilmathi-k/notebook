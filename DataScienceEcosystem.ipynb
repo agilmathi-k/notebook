{
 "cells": [
  {
   "cell_type": "markdown",
   "id": "28bb27eb",
   "metadata": {},
   "source": [
    "# Data Science Tools and Ecosystem"
   ]
  },
  {
   "cell_type": "markdown",
   "id": "1aaa782c",
   "metadata": {},
   "source": [
    "## In this notebook, Data Science Tools and Ecosystem are summarized"
   ]
  },
  {
   "cell_type": "markdown",
   "id": "5f32b520",
   "metadata": {},
   "source": [
    "**Objectives:**\n",
    "\n",
    "             * Python\n",
    "             * SQL\n",
    "             * Scala\n",
    "             * Java\n",
    "             * C++\n",
    "             * Julia"
   ]
  },
  {
   "cell_type": "markdown",
   "id": "6164fd4a",
   "metadata": {},
   "source": [
    "### some of the popular languages that Data Scientists use are:\n",
    "    1.Python\n",
    "    2.SQL\n",
    "    3.Java\n",
    "    4.C++"
   ]
  },
  {
   "cell_type": "markdown",
   "id": "2658d6f7",
   "metadata": {},
   "source": [
    "### Some of the commonly used libraries used by Data Scientists include:\n",
    "    1.Pandas\n",
    "    2.NumPy\n",
    "    3.SciPy\n",
    "    4.Matplotlib\n",
    "    "
   ]
  },
  {
   "cell_type": "markdown",
   "id": "643bcf1f",
   "metadata": {},
   "source": [
    "|DATA SCIENCE TOOLS|\n",
    "|---|\n",
    "|IDEs|\n",
    "|Google Cloud|\n",
    "|Anaconda|"
   ]
  },
  {
   "cell_type": "markdown",
   "id": "2e3b93d4",
   "metadata": {},
   "source": [
    "### Below are a few examples of evaluating arithmetic expressions in Python"
   ]
  },
  {
   "cell_type": "code",
   "execution_count": 3,
   "id": "f7595ef0",
   "metadata": {},
   "outputs": [
    {
     "data": {
      "text/plain": [
       "17"
      ]
     },
     "execution_count": 3,
     "metadata": {},
     "output_type": "execute_result"
    }
   ],
   "source": [
    "# This a simple arithmetic expression to mutiply then add integers.\n",
    "(3*4)+5"
   ]
  },
  {
   "cell_type": "code",
   "execution_count": 4,
   "id": "63a1fd30",
   "metadata": {},
   "outputs": [
    {
     "data": {
      "text/plain": [
       "3.3333333333333335"
      ]
     },
     "execution_count": 4,
     "metadata": {},
     "output_type": "execute_result"
    }
   ],
   "source": [
    "# This will convert 200 minutes to hours by diving by 60.\n",
    "200/60"
   ]
  },
  {
   "cell_type": "markdown",
   "id": "89f84f6b",
   "metadata": {},
   "source": [
    "## AUTHOR\n",
    "AGILMATHI K"
   ]
  },
  {
   "cell_type": "code",
   "execution_count": null,
   "id": "75a5be9f",
   "metadata": {},
   "outputs": [],
   "source": []
  }
 ],
 "metadata": {
  "kernelspec": {
   "display_name": "Python 3 (ipykernel)",
   "language": "python",
   "name": "python3"
  },
  "language_info": {
   "codemirror_mode": {
    "name": "ipython",
    "version": 3
   },
   "file_extension": ".py",
   "mimetype": "text/x-python",
   "name": "python",
   "nbconvert_exporter": "python",
   "pygments_lexer": "ipython3",
   "version": "3.11.4"
  }
 },
 "nbformat": 4,
 "nbformat_minor": 5
}
